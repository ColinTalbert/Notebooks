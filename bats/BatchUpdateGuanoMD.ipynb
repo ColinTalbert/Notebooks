{
 "cells": [
  {
   "cell_type": "markdown",
   "metadata": {},
   "source": [
    "# How to batch update an element in the Guano MD for a group of files \n",
    "\n",
    "For more info on the GuanoMD standard see: https://guano-md.org/\n",
    "\n",
    "This notebook uses the Python reference library for Guano which is avalable from: https://github.com/riggsd/guano-py \n",
    "\n",
    "and can be installed using:    \n",
    "```shell\n",
    "$> pip install -U guano\n",
    "```"
   ]
  },
  {
   "cell_type": "code",
   "execution_count": 1,
   "metadata": {},
   "outputs": [],
   "source": [
    "# import the libraries we'll be using\n",
    "from pathlib import Path\n",
    "import collections\n",
    "\n",
    "from guano import GuanoFile"
   ]
  },
  {
   "cell_type": "markdown",
   "metadata": {},
   "source": [
    "### Step 1: get a list of the files we'll be updating the Guano MD on.  \n",
    "There are lots of ways to do this in Python.  We'll be using pathlib here."
   ]
  },
  {
   "cell_type": "code",
   "execution_count": 2,
   "metadata": {},
   "outputs": [],
   "source": [
    "root_dname = r\"D:\\701\"\n",
    "\n",
    "wav_files = Path(root_dname).glob(\"**\\*.wav\")"
   ]
  },
  {
   "cell_type": "markdown",
   "metadata": {},
   "source": [
    "##### Let's take a look at the Guano Metadata from the first file"
   ]
  },
  {
   "cell_type": "code",
   "execution_count": 3,
   "metadata": {},
   "outputs": [
    {
     "data": {
      "text/plain": [
       "[('GUANO|Version', '1.0'),\n",
       " ('SB|Version', '4.2.1'),\n",
       " ('SB|Species Auto ID', 'Laci'),\n",
       " ('SB|Filter HP', '5'),\n",
       " ('SB|Region', 'Great Basin'),\n",
       " ('SB|Classifier', 'south Great Basin'),\n",
       " ('Timestamp', datetime.datetime(2017, 6, 17, 21, 42, 49)),\n",
       " ('Species Auto ID', 'Laci'),\n",
       " ('Species Manual ID', 'Unconfirmed'),\n",
       " ('Samplerate', 192000),\n",
       " ('Length', 5.0),\n",
       " ('TE', 1),\n",
       " ('Note', '')]"
      ]
     },
     "execution_count": 3,
     "metadata": {},
     "output_type": "execute_result"
    }
   ],
   "source": [
    "md = GuanoFile(next(wav_files))\n",
    "[thing for thing in md.items()]"
   ]
  },
  {
   "cell_type": "markdown",
   "metadata": {},
   "source": [
    "### Step 2 loop over these files and make an edit to each.\n",
    "For example let's add a line to the 'Note' element indicating that we edited it."
   ]
  },
  {
   "cell_type": "code",
   "execution_count": 4,
   "metadata": {},
   "outputs": [
    {
     "name": "stdout",
     "output_type": "stream",
     "text": [
      "1108 files processed\n",
      "Wall time: 5min 13s\n"
     ]
    }
   ],
   "source": [
    "%%time\n",
    "\n",
    "files_processed = 0\n",
    "    row = collections.OrderedDict()\n",
    "    row['GRTS Cell ID'] = grts_id\n",
    "    row['Location Name'] = site_name\n",
    "    row['Latitude Decimal Degrees (NAD83)'] = latlon.split(',')[0]\n",
    "    row['Longitude Decimal Degrees (NAD83)'] = latlon.split(',')[1]\n",
    "    row['Survey Start Time'] = ''\n",
    "    row['Survey End Time'] = ''\n",
    "    row['Detector'] = detector\n",
    "    row['Microphone'] = microphone\n",
    "    row['Microphone Orientation'] = ''\n",
    "    row['Microphone Height (meters)'] = mic_height\n",
    "    row['Distance to Nearest Clutter (meters)'] = ''\n",
    "    row['Clutter Type'] = ''\n",
    "    row['Distance to Nearest Water (meters)'] = ''\n",
    "    row['Water Type'] = ''\n",
    "    row['Percent Clutter'] = ''\n",
    "    row['Broad Habitat Type'] = ''\n",
    "    row['Audio Recording Name (*.wav *.zc)'] = out_fname.name\n",
    "    row['Software Type'] = software\n",
    "    row['Auto Id'] = g['Species Auto ID']\n",
    "    row['Manual Id'] = g['Species Manual ID']\n",
    "    row['dt'] = parts[2]\n",
    "    \n",
    "for wav_file in wav_files:\n",
    "    md = GuanoFile(wav_file)\n",
    "    if 'Note' in md:\n",
    "        md['Note'] = md['Note'] + \"\\nI love GUANO!\"\n",
    "    md.write(make_backup=False)\n",
    "    files_processed += 1\n",
    "    \n",
    "    \n",
    "print(f\"{files_processed} files processed\")"
   ]
  }
 ],
 "metadata": {
  "kernelspec": {
   "display_name": "Python 3",
   "language": "python",
   "name": "python3"
  },
  "language_info": {
   "codemirror_mode": {
    "name": "ipython",
    "version": 3
   },
   "file_extension": ".py",
   "mimetype": "text/x-python",
   "name": "python",
   "nbconvert_exporter": "python",
   "pygments_lexer": "ipython3",
   "version": "3.6.6"
  }
 },
 "nbformat": 4,
 "nbformat_minor": 2
}
