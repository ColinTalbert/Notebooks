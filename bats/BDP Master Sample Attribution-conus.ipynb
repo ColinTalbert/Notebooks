{
 "cells": [
  {
   "cell_type": "markdown",
   "metadata": {},
   "source": [
    "### This notebooks adds various attributes to the BDP master sample vector data"
   ]
  },
  {
   "cell_type": "markdown",
   "metadata": {},
   "source": [
    "The attributes and source used added are:\n",
    "* NLCD 2011 landcover %Open Water, %NoData\n",
    "* Nation Map govenment units (GU) % US State and County\n",
    "* PADUS %Land Ownership top 10 categories\n",
    "\n",
    "Created by Colin Talbert 6/1/2017"
   ]
  },
  {
   "cell_type": "markdown",
   "metadata": {},
   "source": [
    "#### Import the libraries we'll be using"
   ]
  },
  {
   "cell_type": "code",
   "execution_count": 1,
   "metadata": {},
   "outputs": [],
   "source": [
    "import os\n",
    "import csv\n",
    "import numpy as np\n",
    "\n",
    "import matplotlib as mpl\n",
    "import matplotlib.pyplot as plt\n",
    "import pandas as pd\n",
    "import numpy as np\n",
    "import seaborn as sns\n",
    "\n",
    "import rasterio\n",
    "import fiona\n",
    "from shapely.geometry import shape\n",
    "import shapely\n",
    "from osgeo import gdal\n",
    "\n",
    "import geopandas as gpd"
   ]
  },
  {
   "cell_type": "markdown",
   "metadata": {},
   "source": [
    "#### Set the paths to the input data we'll be using.  These are intermediate data that have been projected to match the master sample input layer"
   ]
  },
  {
   "cell_type": "code",
   "execution_count": 2,
   "metadata": {},
   "outputs": [],
   "source": [
    "master_sample_10k_fname = r\"N:\\GISData\\active\\Brown_GIS_WebApps\\bpd\\grts\\master_sample\\complete_conus_mastersample_10km.shp\"\n",
    "\n",
    "projected_dname = r\"N:\\GISData\\Active\\Brown_GIS_WebApps\\bpd\\grts\\DerivedData\\talbert_processing\\FinalProjectedLayers\"\n",
    "#2011 National Landcover data downloaded from the National Map May 30, 2017\n",
    "#The original source downloaded for this project can be found at: \n",
    "#    N:\\Active\\Brown_GIS_WebApps\\bpd\\grts\\SourceData\\National_map_20170523\\nlcd_2011_landcover_2011_edition_2014_10_10\n",
    "#This was projected to Nad83 albers in ESRI\n",
    "nlcd_fname = os.path.join(projected_dname, \"nlcd_2011_landcover_83Albers.tif\")\n",
    "\n",
    "#State and county geometries download from the National Map May 23, 2017\n",
    "#The original source downloaded for this project can be found at: \n",
    "#    N:\\Active\\Brown_GIS_WebApps\\bpd\\grts\\SourceData\\National_map_20170523\\National_GovernmentUnits\n",
    "#This was projected to Nad83 albers in ESRI\n",
    "projected_dname = r\"N:\\GISData\\Active\\Brown_GIS_WebApps\\bpd\\grts\\DerivedData\\talbert_processing\\FinalProjectedLayers\"\n",
    "states_fname = os.path.join(projected_dname, \"GU_StateOrTerritory_Project.shp\")\n",
    "counties_fname = os.path.join(projected_dname, \"GU_CountyOrEquivalent_Project.shp\")\n",
    "\n",
    "#PADUS 1.4 Land ownership downloaded from https://gapanalysis.usgs.gov/padus/data/download/ Map May 25, 2017\n",
    "#The original source downloaded for this project can be found at: \n",
    "#    N:\\Active\\Brown_GIS_WebApps\\bpd\\grts\\SourceData\\National_map_20170523\\PADUS1_4Shapefile\n",
    "#This data was projected to Nad83 albers in ESRI\n",
    "#This data was converted to raster with dimensions and cell size set to match nlcd (30m cells)\n",
    "ownership_fname = os.path.join(projected_dname, \"nlcd_PADUS1_4_LOwnMang.tif\")\n",
    "#this csv is an export of the ownership value attribute table, that we'll use to lookup ownership names\n",
    "ownership_lookup_fname = os.path.join(projected_dname, \"LOwnMang_lookup.csv\")\n"
   ]
  },
  {
   "cell_type": "markdown",
   "metadata": {},
   "source": [
    "#### Load our input datasets (but not necissarily read into memory, too big) "
   ]
  },
  {
   "cell_type": "code",
   "execution_count": null,
   "metadata": {},
   "outputs": [],
   "source": [
    "fname = r\"C:\\Users\\talbertc\\Downloads\\CONUS10kmx10kmg\\All_grts_CONUS_wtop5perc\\All_grts_CONUS_wtop5perc.shp\"\n"
   ]
  },
  {
   "cell_type": "code",
   "execution_count": 3,
   "metadata": {},
   "outputs": [],
   "source": [
    "master_sample = fiona.open(master_sample_10k_fname)\n",
    "\n",
    "nlcd = rasterio.open(nlcd_fname)\n",
    "states = fiona.open(states_fname)\n",
    "counties = fiona.open(counties_fname)\n",
    "ownership = rasterio.open(ownership_fname)"
   ]
  },
  {
   "cell_type": "markdown",
   "metadata": {},
   "source": [
    "#### Write some helper functions to conveniently pull data for a given sample unit"
   ]
  },
  {
   "cell_type": "code",
   "execution_count": 4,
   "metadata": {},
   "outputs": [],
   "source": [
    "def get_grts_id(grts_id):\n",
    "    return list(filter(lambda f: f['properties']['GRTS_ID']==grts_id, master_sample))[0]\n",
    "\n",
    "#this grid cell spans the Columbia river\n",
    "test_grid_cell = get_grts_id(2)"
   ]
  },
  {
   "cell_type": "markdown",
   "metadata": {},
   "source": [
    "### NLCD helper functions"
   ]
  },
  {
   "cell_type": "code",
   "execution_count": 10,
   "metadata": {},
   "outputs": [
    {
     "name": "stdout",
     "output_type": "stream",
     "text": [
      "None\n"
     ]
    }
   ],
   "source": [
    "print(master_sample['properties'])"
   ]
  },
  {
   "cell_type": "code",
   "execution_count": 7,
   "metadata": {},
   "outputs": [
    {
     "data": {
      "text/plain": [
       "(-0.5, 332.5, 333.5, -0.5)"
      ]
     },
     "execution_count": 7,
     "metadata": {},
     "output_type": "execute_result"
    },
    {
     "data": {
      "image/png": "[encoded data removed]",
      "text/plain": [
       "<Figure size 504x504 with 1 Axes>"
      ]
     },
     "metadata": {},
     "output_type": "display_data"
    }
   ],
   "source": [
    "%matplotlib inline\n",
    "def get_nlcd_data(s):\n",
    "    bounds = shape(s['geometry']).bounds\n",
    "    ul = bounds[0], bounds[3]\n",
    "    lr = bounds[2], bounds[1]\n",
    "\n",
    "    ul_index = nlcd.index(*ul)\n",
    "    lr_index = nlcd.index(*lr)\n",
    "\n",
    "    d = nlcd.read(window=tuple(zip(ul_index, lr_index)))\n",
    "    return d\n",
    "\n",
    "data = get_nlcd_data(test_grid_cell)\n",
    "\n",
    "plt.figure(figsize=(7, 7))\n",
    "sns.set_style(\"dark\")\n",
    "sns.despine()\n",
    "plt.imshow(data[0, :, :], cmap=mpl.cm.jet, interpolation=None)\n",
    "plt.axis('off')"
   ]
  },
  {
   "cell_type": "code",
   "execution_count": 6,
   "metadata": {},
   "outputs": [],
   "source": [
    "def percent_water(data):\n",
    "    return np.sum(data==11)/(data.shape[1] * data.shape[2])*100\n",
    "\n",
    "def percent_outside(data):\n",
    "    return np.sum(data==0)/(data.shape[1] * data.shape[2])*100"
   ]
  },
  {
   "cell_type": "markdown",
   "metadata": {},
   "source": [
    "### State and County helper functions"
   ]
  },
  {
   "cell_type": "code",
   "execution_count": 7,
   "metadata": {},
   "outputs": [],
   "source": [
    "states_geo = {state['properties']['STATE_NAME']: shape(state['geometry']) for state in list(states)}"
   ]
  },
  {
   "cell_type": "code",
   "execution_count": 8,
   "metadata": {},
   "outputs": [],
   "source": [
    "counties_geo = {}\n",
    "for county in counties:\n",
    "    name = \"_\".join([county['properties']['STATE_NAME'], county['properties']['COUNTY_NAM']])\n",
    "    geo = shape(county['geometry'])\n",
    "    counties_geo[name] = geo\n"
   ]
  },
  {
   "cell_type": "code",
   "execution_count": 9,
   "metadata": {},
   "outputs": [
    {
     "data": {
      "text/plain": [
       "[('Colorado', 1.0)]"
      ]
     },
     "execution_count": 9,
     "metadata": {},
     "output_type": "execute_result"
    }
   ],
   "source": [
    "def state_intersects(shape):\n",
    "    intersections = []\n",
    "    shape_area = shape.area\n",
    "    for state_name, state_geo in states_geo.items():\n",
    "        if state_geo.intersects(shape):\n",
    "            intersections.append((state_name, shape.intersection(state_geo).area/shape_area))\n",
    "    return sorted(intersections, key=lambda tup: tup[1], reverse=True)\n",
    "        \n",
    "state_intersects(shape(test_grid_cell['geometry']))"
   ]
  },
  {
   "cell_type": "code",
   "execution_count": 10,
   "metadata": {},
   "outputs": [
    {
     "data": {
      "text/plain": [
       "[('Colorado_Mesa', 1.0)]"
      ]
     },
     "execution_count": 10,
     "metadata": {},
     "output_type": "execute_result"
    }
   ],
   "source": [
    "def county_intersects(shape):\n",
    "    intersections = []\n",
    "    shape_area = shape.area\n",
    "    for county_name, county_geo in counties_geo.items():\n",
    "        if county_geo.intersects(shape):\n",
    "            intersections.append((county_name, shape.intersection(county_geo).area/shape_area))\n",
    "    return sorted(intersections, key=lambda tup: tup[1], reverse=True)\n",
    "        \n",
    "county_intersects(shape(test_grid_cell['geometry']))"
   ]
  },
  {
   "cell_type": "markdown",
   "metadata": {},
   "source": [
    "### Ownership helper functions"
   ]
  },
  {
   "cell_type": "code",
   "execution_count": 11,
   "metadata": {},
   "outputs": [],
   "source": [
    "import csv\n",
    "reader = csv.reader(open(ownership_lookup_fname))\n",
    "next(reader, None)\n",
    "\n",
    "ownership_lookup = {}\n",
    "for row in reader:\n",
    "    key = row[1]\n",
    "    ownership_lookup[int(key)] = row[3]\n",
    "    \n",
    "ownership_lookup[30] = 'NODATA'"
   ]
  },
  {
   "cell_type": "code",
   "execution_count": 12,
   "metadata": {},
   "outputs": [
    {
     "data": {
      "text/plain": [
       "{1: 'FWS',\n",
       " 2: 'NPS',\n",
       " 3: 'STATE',\n",
       " 4: 'NOAA',\n",
       " 5: 'JNT',\n",
       " 6: 'UNK',\n",
       " 7: 'USBR',\n",
       " 8: 'BLM',\n",
       " 9: 'TRIB',\n",
       " 10: 'USFS',\n",
       " 11: 'USACE',\n",
       " 12: 'NGO',\n",
       " 13: 'CNTY',\n",
       " 14: 'UNKL',\n",
       " 15: 'REG',\n",
       " 16: 'RWD',\n",
       " 17: 'CITY',\n",
       " 18: 'PVT',\n",
       " 19: 'DOD',\n",
       " 20: 'OTHF',\n",
       " 21: 'TVA',\n",
       " 30: 'NODATA'}"
      ]
     },
     "execution_count": 12,
     "metadata": {},
     "output_type": "execute_result"
    }
   ],
   "source": [
    "ownership_lookup"
   ]
  },
  {
   "cell_type": "code",
   "execution_count": 13,
   "metadata": {},
   "outputs": [
    {
     "data": {
      "text/plain": [
       "(-0.5, 332.5, 333.5, -0.5)"
      ]
     },
     "execution_count": 13,
     "metadata": {},
     "output_type": "execute_result"
    },
    {
     "data": {
      "image/png": "[encoded data removed]",
      "text/plain": [
       "<matplotlib.figure.Figure at 0x1171ba90>"
      ]
     },
     "metadata": {},
     "output_type": "display_data"
    }
   ],
   "source": [
    "def get_ownership_data(s):\n",
    "    bounds = s.bounds\n",
    "    ul = bounds[0], bounds[3]\n",
    "    lr = bounds[2], bounds[1]\n",
    "\n",
    "    ul_index = ownership.index(*ul)\n",
    "    lr_index = ownership.index(*lr)\n",
    "\n",
    "    d = ownership.read(window=tuple(zip(ul_index, lr_index)))\n",
    "    d[d==255] = 30  #convert nodata from 255 to 30\n",
    "    \n",
    "    #reclass to lump minor categories\n",
    "    d[d==21] = 15 # TVA with REG\n",
    "    d[d==16] = 15 # RWD with REG\n",
    "    d[d==14] = 6 # UNKL with UNK\n",
    "    return d\n",
    "\n",
    "test_shape = shape(test_grid_cell['geometry'])\n",
    "data = get_ownership_data(test_shape)\n",
    "\n",
    "plt.figure(figsize=(7, 7))\n",
    "plt.imshow(data[0, :, :], cmap=plt.cm.Accent)\n",
    "plt.axis('off')"
   ]
  },
  {
   "cell_type": "code",
   "execution_count": 14,
   "metadata": {},
   "outputs": [
    {
     "data": {
      "text/plain": [
       "(array([0, 1, 2]), <a list of 3 Text xticklabel objects>)"
      ]
     },
     "execution_count": 14,
     "metadata": {},
     "output_type": "execute_result"
    },
    {
     "data": {
      "image/png": "[encoded data removed]",
      "text/plain": [
       "<matplotlib.figure.Figure at 0x116f3be0>"
      ]
     },
     "metadata": {},
     "output_type": "display_data"
    }
   ],
   "source": [
    "def get_ownership_stats(s):\n",
    "    data = get_ownership_data(s)\n",
    "    hist_data = np.unique(data, return_counts=True)\n",
    "    merged = list(zip([ownership_lookup[i] for i in hist_data[0]],\n",
    "            [i/np.sum(hist_data[1])*100 for i in hist_data[1]]))\n",
    "    return sorted(merged, key=lambda tup: tup[1], reverse=True)\n",
    "\n",
    "stats = get_ownership_stats(test_shape)\n",
    "d = list(zip(*stats))\n",
    "\n",
    "plt.figure(figsize=(12, 5))\n",
    "colors = ['slate grey', 'faded green', 'light violet', 'windows blue']\n",
    "g = sns.barplot(d[0], d[1], palette=sns.xkcd_palette(colors))\n",
    "plt.xticks(rotation=45)"
   ]
  },
  {
   "cell_type": "markdown",
   "metadata": {},
   "source": [
    "### Output helper functions"
   ]
  },
  {
   "cell_type": "code",
   "execution_count": 15,
   "metadata": {},
   "outputs": [
    {
     "data": {
      "text/plain": [
       "['own_BLM',\n",
       " 'own_CITY',\n",
       " 'own_CNTY',\n",
       " 'own_DOD',\n",
       " 'own_FWS',\n",
       " 'own_JNT',\n",
       " 'own_NGO',\n",
       " 'own_NOAA',\n",
       " 'own_NODATA',\n",
       " 'own_NPS',\n",
       " 'own_OTHF',\n",
       " 'own_PVT',\n",
       " 'own_REG',\n",
       " 'own_STATE',\n",
       " 'own_TRIB',\n",
       " 'own_UNK',\n",
       " 'own_USACE',\n",
       " 'own_USBR',\n",
       " 'own_USFS']"
      ]
     },
     "execution_count": 15,
     "metadata": {},
     "output_type": "execute_result"
    }
   ],
   "source": [
    "owner_labels = ['own_' + o for o in ownership_lookup.values() if o not in ['RWD', 'TVA', 'UNKL']]\n",
    "owner_labels.sort()\n",
    "owner_labels"
   ]
  },
  {
   "cell_type": "code",
   "execution_count": 16,
   "metadata": {},
   "outputs": [
    {
     "data": {
      "text/html": [
       "<div>\n",
       "<table border=\"1\" class=\"dataframe\">\n",
       "  <thead>\n",
       "    <tr style=\"text-align: right;\">\n",
       "      <th></th>\n",
       "      <th>GRTS_ID</th>\n",
       "      <th>water_p</th>\n",
       "      <th>outside_p</th>\n",
       "      <th>state_n_1</th>\n",
       "      <th>state_p_1</th>\n",
       "      <th>state_n_2</th>\n",
       "      <th>state_p_2</th>\n",
       "      <th>state_n_3</th>\n",
       "      <th>state_p_3</th>\n",
       "      <th>state_n_4</th>\n",
       "      <th>...</th>\n",
       "      <th>own_NPS</th>\n",
       "      <th>own_OTHF</th>\n",
       "      <th>own_PVT</th>\n",
       "      <th>own_REG</th>\n",
       "      <th>own_STATE</th>\n",
       "      <th>own_TRIB</th>\n",
       "      <th>own_UNK</th>\n",
       "      <th>own_USACE</th>\n",
       "      <th>own_USBR</th>\n",
       "      <th>own_USFS</th>\n",
       "    </tr>\n",
       "  </thead>\n",
       "  <tbody>\n",
       "    <tr>\n",
       "      <th>0</th>\n",
       "      <td>NA</td>\n",
       "      <td>NA</td>\n",
       "      <td>NA</td>\n",
       "      <td>NA</td>\n",
       "      <td>NA</td>\n",
       "      <td>NA</td>\n",
       "      <td>NA</td>\n",
       "      <td>NA</td>\n",
       "      <td>NA</td>\n",
       "      <td>NA</td>\n",
       "      <td>...</td>\n",
       "      <td>NA</td>\n",
       "      <td>NA</td>\n",
       "      <td>NA</td>\n",
       "      <td>NA</td>\n",
       "      <td>NA</td>\n",
       "      <td>NA</td>\n",
       "      <td>NA</td>\n",
       "      <td>NA</td>\n",
       "      <td>NA</td>\n",
       "      <td>NA</td>\n",
       "    </tr>\n",
       "  </tbody>\n",
       "</table>\n",
       "<p>1 rows × 40 columns</p>\n",
       "</div>"
      ],
      "text/plain": [
       "  GRTS_ID water_p outside_p state_n_1 state_p_1 state_n_2 state_p_2 state_n_3  \\\n",
       "0      NA      NA        NA        NA        NA        NA        NA        NA   \n",
       "\n",
       "  state_p_3 state_n_4   ...    own_NPS own_OTHF own_PVT own_REG own_STATE  \\\n",
       "0        NA        NA   ...         NA       NA      NA      NA        NA   \n",
       "\n",
       "  own_TRIB own_UNK own_USACE own_USBR own_USFS  \n",
       "0       NA      NA        NA       NA       NA  \n",
       "\n",
       "[1 rows x 40 columns]"
      ]
     },
     "execution_count": 16,
     "metadata": {},
     "output_type": "execute_result"
    }
   ],
   "source": [
    "col_names = ['GRTS_ID', 'water_p', 'outside_p', \n",
    "                        'state_n_1', 'state_p_1', \n",
    "                        'state_n_2', 'state_p_2',\n",
    "                        'state_n_3', 'state_p_3',\n",
    "                        'state_n_4', 'state_p_4',\n",
    "                        'cnty_n_1', 'cnty_p_1', \n",
    "                        'cnty_n_2', 'cnty_p_2',\n",
    "                        'cnty_n_3', 'cnty_p_3',\n",
    "                        'cnty_n_4', 'cnty_p_4',\n",
    "                        'cnty_n_5', 'cnty_p_5',\n",
    " ]\n",
    "\n",
    "col_names += owner_labels\n",
    "\n",
    "final_df = pd.DataFrame([[\"NA\"]*len(col_names)], columns=col_names)\n",
    "final_df"
   ]
  },
  {
   "cell_type": "code",
   "execution_count": 17,
   "metadata": {},
   "outputs": [],
   "source": [
    "import collections\n",
    "def empty_row():\n",
    "    d = collections.OrderedDict()\n",
    "    for col_name in col_names:\n",
    "        if col_name.startswith('own_'):\n",
    "            d[col_name] = '0'\n",
    "        else:\n",
    "            d[col_name] = 'NA'\n",
    "    return d"
   ]
  },
  {
   "cell_type": "markdown",
   "metadata": {},
   "source": [
    "# Finally!  Run through all of them and produce our output csv"
   ]
  },
  {
   "cell_type": "code",
   "execution_count": 18,
   "metadata": {},
   "outputs": [
    {
     "name": "stdout",
     "output_type": "stream",
     "text": [
      "1000\n",
      "2000\n",
      "3000\n",
      "4000\n",
      "5000\n",
      "6000\n",
      "7000\n",
      "8000\n",
      "9000\n",
      "10000\n",
      "11000\n",
      "12000\n",
      "13000\n",
      "14000\n",
      "15000\n",
      "16000\n",
      "17000\n",
      "18000\n",
      "19000\n",
      "20000\n",
      "21000\n",
      "22000\n",
      "23000\n",
      "24000\n",
      "25000\n",
      "26000\n",
      "27000\n",
      "28000\n",
      "29000\n",
      "30000\n",
      "31000\n",
      "32000\n",
      "33000\n",
      "34000\n",
      "35000\n",
      "36000\n",
      "37000\n",
      "38000\n",
      "39000\n",
      "40000\n",
      "41000\n",
      "42000\n",
      "43000\n",
      "44000\n",
      "45000\n",
      "46000\n",
      "47000\n",
      "48000\n",
      "49000\n",
      "50000\n",
      "51000\n",
      "52000\n",
      "53000\n",
      "54000\n",
      "55000\n",
      "56000\n",
      "57000\n",
      "58000\n",
      "59000\n",
      "60000\n",
      "61000\n",
      "62000\n",
      "63000\n",
      "64000\n",
      "65000\n",
      "66000\n",
      "67000\n",
      "68000\n",
      "69000\n",
      "70000\n",
      "71000\n",
      "72000\n",
      "73000\n",
      "74000\n",
      "75000\n",
      "76000\n",
      "77000\n",
      "78000\n",
      "79000\n",
      "80000\n",
      "81000\n",
      "82000\n",
      "83000\n",
      "84000\n",
      "85000\n",
      "86000\n",
      "87000\n",
      "88000\n",
      "89000\n",
      "90000\n",
      "91000\n",
      "92000\n",
      "93000\n",
      "94000\n",
      "95000\n",
      "96000\n",
      "97000\n",
      "98000\n",
      "99000\n",
      "100000\n",
      "101000\n",
      "102000\n",
      "103000\n",
      "104000\n",
      "105000\n",
      "106000\n",
      "107000\n",
      "108000\n",
      "109000\n",
      "110000\n",
      "111000\n",
      "112000\n",
      "113000\n",
      "114000\n",
      "115000\n",
      "116000\n",
      "117000\n",
      "118000\n",
      "119000\n",
      "120000\n",
      "121000\n",
      "122000\n",
      "123000\n",
      "124000\n",
      "125000\n",
      "126000\n",
      "127000\n",
      "128000\n",
      "129000\n",
      "130000\n",
      "131000\n",
      "132000\n",
      "133000\n"
     ]
    }
   ],
   "source": [
    "i = 0\n",
    "output_fname = r\"N:\\Active\\Brown_GIS_WebApps\\bpd\\grts\\DerivedData\\talbert_processing\\output_10k.csv\"\n",
    "\n",
    "for grid_cell in master_sample:\n",
    "#     print(grid_cell['properties']['GRTS_ID'])\n",
    "    this_row = empty_row()\n",
    "    this_row['GRTS_ID'] = grid_cell['properties']['GRTS_ID']\n",
    "    nlcd_data = get_nlcd_data(grid_cell)\n",
    "    this_row['water_p'] = percent_water(nlcd_data)\n",
    "    this_row['outside_p'] = percent_outside(nlcd_data)\n",
    "    \n",
    "    \n",
    "    state_i = state_intersects(shape(grid_cell['geometry']))\n",
    "    county_i = county_intersects(shape(grid_cell['geometry']))\n",
    "    \n",
    "    for state_num, (state_name, pcnt) in enumerate(state_i):\n",
    "        this_row['state_n_{}'.format(state_num+1)] = state_name\n",
    "        this_row['state_p_{}'.format(state_num+1)] = pcnt*100\n",
    "        \n",
    "    for county_num, (county_name, pcnt) in enumerate(county_i):\n",
    "        this_row['cnty_n_{}'.format(county_num+1)] = county_name\n",
    "        this_row['cnty_p_{}'.format(county_num+1)] = pcnt*100\n",
    "    \n",
    "    ownership_i = get_ownership_stats(shape(grid_cell['geometry']))\n",
    "    for owner_num, (owner_name, pcnt) in enumerate(ownership_i):\n",
    "        this_row['own_' + owner_name] = pcnt\n",
    "    \n",
    "    \n",
    "    this_row_df = pd.DataFrame(this_row, index=[i])\n",
    "    final_df = final_df.append(this_row_df)\n",
    "    \n",
    "    i +=1\n",
    "    if np.mod(i, 1000) == 0:\n",
    "        print(i, sep=' ')\n",
    "        final_df.to_csv(output_fname, index=False)\n",
    "#         break\n",
    "        \n",
    "final_df = final_df[col_names]"
   ]
  },
  {
   "cell_type": "markdown",
   "metadata": {},
   "source": [
    "### Join the resulting DF back onto our shapefile and save back out to disk"
   ]
  },
  {
   "cell_type": "code",
   "execution_count": null,
   "metadata": {},
   "outputs": [],
   "source": [
    "master = gpd.read_file(master_sample_10k_fname)\n",
    "merged = master.merge(final_df, on='GRTS_ID')\n",
    "\n",
    "for col_name in merged.columns:\n",
    "    if col_name.startswith('own_') or '_p_' in col_name:\n",
    "        this_col = pd.to_numeric(merged[col_name], errors='coerce').fillna(0)\n",
    "        merged[col_name] = this_col\n",
    "\n",
    "final_out_fname =  r\"N:\\active\\Brown_GIS_WebApps\\bpd\\grts\\master_sample\\complete_conus_mastersample_10km_attributed3.shp\"\n",
    "merged.to_file(final_out_fname)"
   ]
  }
 ],
 "metadata": {
  "anaconda-cloud": {},
  "kernelspec": {
   "display_name": "Python 3",
   "language": "python",
   "name": "python3"
  },
  "language_info": {
   "codemirror_mode": {
    "name": "ipython",
    "version": 3
   },
   "file_extension": ".py",
   "mimetype": "text/x-python",
   "name": "python",
   "nbconvert_exporter": "python",
   "pygments_lexer": "ipython3",
   "version": "3.6.5"
  }
 },
 "nbformat": 4,
 "nbformat_minor": 2
}
