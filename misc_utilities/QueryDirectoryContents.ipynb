{
 "cells": [
  {
   "cell_type": "markdown",
   "metadata": {},
   "source": [
    "# How to get a Pandas dataframe with the contents of the filesystem\n",
    "\n",
    "I recently had a need to find a notebook that I had recently modified but didn't remember where it was saved.\n",
    "I'm sure there's a built in method to accomplish this on various operating systems, but nothing seemed to be \n",
    "working for me.\n",
    "\n",
    "But when you have a hammer ..."
   ]
  },
  {
   "cell_type": "code",
   "execution_count": 1,
   "metadata": {},
   "outputs": [],
   "source": [
    "import datetime\n",
    "from pathlib import  Path\n",
    "import collections\n",
    "\n",
    "import pandas as pd"
   ]
  },
  {
   "cell_type": "markdown",
   "metadata": {},
   "source": [
    "### Gather a list of the files we want to look through.\n",
    "\n",
    "We'll be using pathlib for this but this could be accomplished with other means in Python (shutil, os.path, etc.)\n",
    "\n",
    "* You'll need to update the directory and query string below"
   ]
  },
  {
   "cell_type": "code",
   "execution_count": 2,
   "metadata": {},
   "outputs": [],
   "source": [
    "p = Path(r\"C:\\projects\")  # Change this directory to be directory we'll be starting from.\n",
    "files = p.glob(\"**\\*.ipynb\") # Change this extension / query string as needed."
   ]
  },
  {
   "cell_type": "markdown",
   "metadata": {},
   "source": [
    "### Now we'll loop through the files we've gathered."
   ]
  },
  {
   "cell_type": "code",
   "execution_count": 3,
   "metadata": {},
   "outputs": [],
   "source": [
    "rows = []\n",
    "for n in files:\n",
    "    row = collections.OrderedDict()\n",
    "    row['name'] = n.name\n",
    "    row['path'] = str(n)\n",
    "    \n",
    "    stat = n.stat()\n",
    "    row['size'] = stat.st_size\n",
    "    lstat = n.lstat()\n",
    "    row['date_created'] = datetime.datetime.fromtimestamp(n.lstat().st_ctime)\n",
    "    row['date_accessed'] = datetime.datetime.fromtimestamp(n.lstat().st_atime)\n",
    "    row['date_modified'] = datetime.datetime.fromtimestamp(n.lstat().st_mtime)\n",
    "    rows.append(row)"
   ]
  },
  {
   "cell_type": "markdown",
   "metadata": {},
   "source": [
    "### Convert this to a Pandas dataframe"
   ]
  },
  {
   "cell_type": "code",
   "execution_count": 4,
   "metadata": {},
   "outputs": [
    {
     "data": {
      "text/html": [
       "<div>\n",
       "<style scoped>\n",
       "    .dataframe tbody tr th:only-of-type {\n",
       "        vertical-align: middle;\n",
       "    }\n",
       "\n",
       "    .dataframe tbody tr th {\n",
       "        vertical-align: top;\n",
       "    }\n",
       "\n",
       "    .dataframe thead th {\n",
       "        text-align: right;\n",
       "    }\n",
       "</style>\n",
       "<table border=\"1\" class=\"dataframe\">\n",
       "  <thead>\n",
       "    <tr style=\"text-align: right;\">\n",
       "      <th></th>\n",
       "      <th>name</th>\n",
       "      <th>path</th>\n",
       "      <th>size</th>\n",
       "      <th>date_created</th>\n",
       "      <th>date_accessed</th>\n",
       "      <th>date_modified</th>\n",
       "    </tr>\n",
       "  </thead>\n",
       "  <tbody>\n",
       "    <tr>\n",
       "      <th>0</th>\n",
       "      <td>BatVideoPreProcessing.ipynb</td>\n",
       "      <td>C:\\projects\\BatTurbines\\notebooks\\BatVideoPreP...</td>\n",
       "      <td>768660</td>\n",
       "      <td>2018-11-05 07:37:16.356656</td>\n",
       "      <td>2018-11-05 07:37:16.356656</td>\n",
       "      <td>2018-11-05 08:25:17.242419</td>\n",
       "    </tr>\n",
       "    <tr>\n",
       "      <th>1</th>\n",
       "      <td>InitialDataExploration-backup.ipynb</td>\n",
       "      <td>C:\\projects\\BatTurbines\\notebooks\\InitialDataE...</td>\n",
       "      <td>2234543</td>\n",
       "      <td>2018-09-20 08:21:11.492632</td>\n",
       "      <td>2018-09-20 08:21:11.492632</td>\n",
       "      <td>2018-09-20 10:46:07.075862</td>\n",
       "    </tr>\n",
       "    <tr>\n",
       "      <th>2</th>\n",
       "      <td>InitialDataExploration.ipynb</td>\n",
       "      <td>C:\\projects\\BatTurbines\\notebooks\\InitialDataE...</td>\n",
       "      <td>285760</td>\n",
       "      <td>2018-09-17 16:38:34.138953</td>\n",
       "      <td>2018-09-17 16:38:34.138953</td>\n",
       "      <td>2018-10-03 12:01:40.687842</td>\n",
       "    </tr>\n",
       "  </tbody>\n",
       "</table>\n",
       "</div>"
      ],
      "text/plain": [
       "                                  name  \\\n",
       "0          BatVideoPreProcessing.ipynb   \n",
       "1  InitialDataExploration-backup.ipynb   \n",
       "2         InitialDataExploration.ipynb   \n",
       "\n",
       "                                                path     size  \\\n",
       "0  C:\\projects\\BatTurbines\\notebooks\\BatVideoPreP...   768660   \n",
       "1  C:\\projects\\BatTurbines\\notebooks\\InitialDataE...  2234543   \n",
       "2  C:\\projects\\BatTurbines\\notebooks\\InitialDataE...   285760   \n",
       "\n",
       "                date_created              date_accessed  \\\n",
       "0 2018-11-05 07:37:16.356656 2018-11-05 07:37:16.356656   \n",
       "1 2018-09-20 08:21:11.492632 2018-09-20 08:21:11.492632   \n",
       "2 2018-09-17 16:38:34.138953 2018-09-17 16:38:34.138953   \n",
       "\n",
       "               date_modified  \n",
       "0 2018-11-05 08:25:17.242419  \n",
       "1 2018-09-20 10:46:07.075862  \n",
       "2 2018-10-03 12:01:40.687842  "
      ]
     },
     "execution_count": 4,
     "metadata": {},
     "output_type": "execute_result"
    }
   ],
   "source": [
    "df = pd.DataFrame(rows)\n",
    "df.head(3)"
   ]
  },
  {
   "cell_type": "markdown",
   "metadata": {},
   "source": [
    "### We can then use this dataframe for easy and powerful searching."
   ]
  },
  {
   "cell_type": "code",
   "execution_count": 5,
   "metadata": {},
   "outputs": [
    {
     "data": {
      "text/html": [
       "<div>\n",
       "<style scoped>\n",
       "    .dataframe tbody tr th:only-of-type {\n",
       "        vertical-align: middle;\n",
       "    }\n",
       "\n",
       "    .dataframe tbody tr th {\n",
       "        vertical-align: top;\n",
       "    }\n",
       "\n",
       "    .dataframe thead th {\n",
       "        text-align: right;\n",
       "    }\n",
       "</style>\n",
       "<table border=\"1\" class=\"dataframe\">\n",
       "  <thead>\n",
       "    <tr style=\"text-align: right;\">\n",
       "      <th></th>\n",
       "      <th>name</th>\n",
       "      <th>path</th>\n",
       "      <th>size</th>\n",
       "      <th>date_created</th>\n",
       "      <th>date_accessed</th>\n",
       "      <th>date_modified</th>\n",
       "    </tr>\n",
       "  </thead>\n",
       "  <tbody>\n",
       "    <tr>\n",
       "      <th>247</th>\n",
       "      <td>QueryDirectoryContents.ipynb</td>\n",
       "      <td>C:\\projects\\notebooks\\misc_utilities\\QueryDire...</td>\n",
       "      <td>48753</td>\n",
       "      <td>2019-03-07 08:34:05.222089</td>\n",
       "      <td>2019-03-07 08:34:05.222089</td>\n",
       "      <td>2019-03-07 09:17:21.025157</td>\n",
       "    </tr>\n",
       "    <tr>\n",
       "      <th>170</th>\n",
       "      <td>CleanUpRGFO.ipynb</td>\n",
       "      <td>C:\\projects\\misc\\CleanUpRGFO.ipynb</td>\n",
       "      <td>27703</td>\n",
       "      <td>2019-02-27 11:12:25.837446</td>\n",
       "      <td>2019-03-05 07:42:13.119110</td>\n",
       "      <td>2019-03-07 09:12:14.194383</td>\n",
       "    </tr>\n",
       "    <tr>\n",
       "      <th>213</th>\n",
       "      <td>BatchUpdateGuanoMD.ipynb</td>\n",
       "      <td>C:\\projects\\notebooks\\bats\\BatchUpdateGuanoMD....</td>\n",
       "      <td>4673</td>\n",
       "      <td>2019-03-06 08:08:29.467091</td>\n",
       "      <td>2019-03-06 08:08:29.467091</td>\n",
       "      <td>2019-03-07 08:59:25.432336</td>\n",
       "    </tr>\n",
       "  </tbody>\n",
       "</table>\n",
       "</div>"
      ],
      "text/plain": [
       "                             name  \\\n",
       "247  QueryDirectoryContents.ipynb   \n",
       "170             CleanUpRGFO.ipynb   \n",
       "213      BatchUpdateGuanoMD.ipynb   \n",
       "\n",
       "                                                  path   size  \\\n",
       "247  C:\\projects\\notebooks\\misc_utilities\\QueryDire...  48753   \n",
       "170                 C:\\projects\\misc\\CleanUpRGFO.ipynb  27703   \n",
       "213  C:\\projects\\notebooks\\bats\\BatchUpdateGuanoMD....   4673   \n",
       "\n",
       "                  date_created              date_accessed  \\\n",
       "247 2019-03-07 08:34:05.222089 2019-03-07 08:34:05.222089   \n",
       "170 2019-02-27 11:12:25.837446 2019-03-05 07:42:13.119110   \n",
       "213 2019-03-06 08:08:29.467091 2019-03-06 08:08:29.467091   \n",
       "\n",
       "                 date_modified  \n",
       "247 2019-03-07 09:17:21.025157  \n",
       "170 2019-03-07 09:12:14.194383  \n",
       "213 2019-03-07 08:59:25.432336  "
      ]
     },
     "execution_count": 5,
     "metadata": {},
     "output_type": "execute_result"
    }
   ],
   "source": [
    "df.sort_values('date_modified', ascending=False).head(3)"
   ]
  },
  {
   "cell_type": "code",
   "execution_count": null,
   "metadata": {},
   "outputs": [],
   "source": []
  }
 ],
 "metadata": {
  "kernelspec": {
   "display_name": "Python 3",
   "language": "python",
   "name": "python3"
  },
  "language_info": {
   "codemirror_mode": {
    "name": "ipython",
    "version": 3
   },
   "file_extension": ".py",
   "mimetype": "text/x-python",
   "name": "python",
   "nbconvert_exporter": "python",
   "pygments_lexer": "ipython3",
   "version": "3.6.6"
  }
 },
 "nbformat": 4,
 "nbformat_minor": 2
}
